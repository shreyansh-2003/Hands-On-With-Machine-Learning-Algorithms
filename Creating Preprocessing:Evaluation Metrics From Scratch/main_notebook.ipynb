{
 "cells": [
  {
   "cell_type": "markdown",
   "id": "6f78cd12",
   "metadata": {},
   "source": [
    "# Creating Preprocessing/Evaluation Metrics From Scratch\n",
    "---\n",
    "__Author Name : Shreyansh Padarha__<br>\n",
    "__Email : mailto:shreyansh.padarha@hotmail.com__\n",
    "\n",
    "---"
   ]
  },
  {
   "attachments": {},
   "cell_type": "markdown",
   "id": "32f0694f",
   "metadata": {},
   "source": [
    "> # Introduction\n",
    "\n",
    "## Overview\n",
    "\n",
    "The ```sklearn.preprocessing package``` provides several common utility functions and transformer classes to change raw feature vectors into a representation that is more suitable for the downstream estimators.\n",
    "\n",
    "Usually, we use Data Preprocessing Functions like \"Label Encoder\", \"Min Max Scaler\", etc. without understanding the actual implementation of it. It is nothing complex but a set of mathematical/logical procedures that defines those functions.\n",
    "\n",
    "Before we move on with complex machine learning implementations, we have to understand how are certain Preprocessing Techniques implemented in the Python Code. Therefore, this lab notebook aims at doing the same.\n",
    "\n",
    "## Dataset Description \n",
    "There are 3 sheets- Dataset1, Dataset2, and Dataset3. Dataset1 and Dataset2 are identical in nature, except for the number of entries. Assume that the features \"True_Value\" and \"Predicted_Value\" are Labels and Predictions of a Regression Model. In the Dataset3, there is another feature named as \"Result\", which is a Binary Categorical Variable (assumption is that the minimum marks to clear the exam is 70% [35 Marks]).\n",
    "\n",
    "## Tasks\n",
    "\n",
    "#### A) From the attached file, load the three different sheets as df1, df2, and  df3 onto the memory of Jupyter Notebook, as Python DataFrames.\n",
    "\n",
    "#### B) Write the user defined functions for the implementation of following -\n",
    "\n",
    "1. To find the measures of central tendency. Another function parameter can select what type of value should be returned.\n",
    "    - Mean\n",
    "    - Median\n",
    "    - Mode\n",
    "2. To scale a list of Numerical Values between 0 and 1 (minimum and maximum will be respectively 0, and 1)\n",
    "3. Given a number and a set of values (in a list), find the percentile of the number in that array set.\n",
    "4. Given a set of values, categorise the datapoints into - LEFT_OUTLIER, MIN, Q1, Q2, Q3, MAX, RIGHT_OUTLIER, and plot the above values onto an axis\n",
    "5. Given two sets of values, find the correlation between them\n",
    "6. To encode and decode a Categorical Variable into a Numerical Representation.\n",
    "7. To check the goodness of fit for the Regression Model using Evaluation Metrics. The evaluation metrics can be selected based on a parameter (\"R2\", \"MSE\", \"MAE\").\n",
    "    - R-Squared (R² or the coefficient of determination)\n",
    "    - Mean Squared Error\n",
    "    - Mean Absolute Error\n",
    "        \n",
    "#### C) Make use of the above user-defined functions, and illustrate the results. In addition that, perform the below tasks -\n",
    "1. Test the User Defined Functions that you code for various functionalities, and verify its validity by comparing with functions in sklearn.preprocessing \n",
    "2. Find the percentile of the number \"last two digits of your register number + 10\" in df2.\n",
    "3. Check whether the dataset size affects the values of Regression Evaluation Metrics\n",
    "4. Is there any relationship between the Squared Pearson Correlation Coefficient and R2 value?\n",
    "\n",
    "---\n",
    "> # Objectives  \n",
    "\n",
    "To Understand what goes behind the easy-to-use transformation and data pre-processing libraries, and be able to replicate that without other llibraries or in-built functions.\n",
    "\n",
    "---\n",
    "> # Problem Statement\n",
    "\n",
    "Applying logical thinking, statistical formulas to create user-defined functions that mimmic the working of methods of libraries like sklearn, statistics, etc.\n",
    "\n",
    "---\n",
    "> # Approach / Methods \n",
    "\n",
    "### Question 1\n",
    "\n",
    "___From the attached file, load the three different sheets as \"df1\", \"df2\", and \"df3\" onto the memory of Jupyter Notebook, as Python DataFrames.___\n",
    "\n",
    "The datasetes are imported through pandas ```read_excel()``` method. To import different sheets of the same excel file a second parameter called 'sheet_name' is passed, and the sheet name is specified in the same.\n",
    "\n",
    "The datasetes shape has been retrieved through the ```.shape()``` method, and its evident as rows, column for each dataset.\n",
    "\n",
    "### Question 2\n",
    "\n",
    "___Write the user defined functions for the implementation of following -___\n",
    "\n",
    "\n",
    "\n",
    "___1) To find the measures of central tendency. Another function parameter can select what type of value should be returned.(Mean/Median/Mode)___\n",
    "\n",
    "I created a user defined function to calculate the measures of tendancy. A keyword argument called method is passed, which enables the user to pass `\"Mode\" / \"Median\" / \"Median\"` and the function calculates the same. The function makes use of other smaller user defined functions, for each task. The processes used for each tendency are as follows:\n",
    "\n",
    "    1. Median (arr_median) : For calculating the median, a bubble sort enabling function is created, which sorts the array post which the standard median formula is used to find the required index. The index formula changes depending on whether the number of elements are even or odd.\n",
    "    \n",
    "    2. Mode (arr_mode) : For calculating the mode, we create a dictionary, which contains the frequency of each value in the array. Then we calculate the highest frequency. We use that frequency along with list comprehension to create an array of values, which all have the highest frequency. We return the first highest repetitive value as the mode.\n",
    "    \n",
    "    3. Mean : For calculating the mean, we initialise a total integer variable. Then, we loop through the array, and summate / keep adding the individual iterated value to the toal. In the end we, divide the total variable with the length of the array.\n",
    "\n",
    "\n",
    "___2) To scale a list of Numerical Values between 0 and 1 (minimum and maximum will be respectively 0, and 1.___\n",
    "\n",
    "I created a user defined function to create a min_max_scalled array from a given array. Using a previous user-defined function, I calculated the minimum and maximum value. I then iterated through the user provided array and applied the following formula, to each value, and appended it into a new array.\n",
    "\n",
    "```Formula --> scalled_x = (x - minimum) / (minimum + maximum)```\n",
    "\n",
    "Finally, I returned the scalled values in an array form.\n",
    "\n",
    "___3) Given a number and a set of values (in a list), find the percentile of the number in that array set.___\n",
    "\n",
    "I created a user defined function to convert the array's values to percentile ranks. We, iterate through the array and apply the formula below to calculate the rank of each value, and then create key value pairs, where the key is the value and the value is the percentile rank.\n",
    "\n",
    "```Formula --> rank_x = (total values below 'x' / total values) X 100```\n",
    "\n",
    "Finally, I returned the ranks in a dictionary format.\n",
    "\n",
    "___4) Given a set of values, categorise the datapoints into - LEFT_OUTLIER, MIN, Q1, Q2, Q3, MAX, RIGHT_OUTLIER, and plot the above values onto an axis___\n",
    "\n",
    "I created a user-defined function, to calculate ```Q1 | Median | Q3 | IQR | Right Outlier | Left Outlier | MIN | MAX | IQR``` and used the values to display a scatter plot that resembles a box plot.\n",
    "\n",
    "- The left outliers are all the elements that fall below the lower IQR threshold, which is Q1 - 1.5 X IQR.\n",
    "\n",
    "- The right outliers are all the elements that fall above the lower IQR threshold, which is Q3 + 1.5 X IQR.\n",
    "\n",
    "For plotting the plot, we plot multiple scatter plots on one axis with different marker size, color and shape. We leave the y axis empty, and we define the legend in the order of the plots. \n",
    "\n",
    "___5) Given two sets of values, find the correlation between them.___\n",
    "\n",
    "I created a user defined function, with two arguments, array 1 and array 2. Post doing that I applied the infamous ```spearman's rank correlation``` formula.\n",
    "\n",
    "___6) To encode and decode a Categorical Variable into a Numerical Representation.___\n",
    "\n",
    "I created a user defined function, which follows the following steps to label encode the values of an array:\n",
    "\n",
    "    1. Sort the array in ascending order\n",
    "    2. Find all the unique values, and map them to a unique encoded number and store it as key and value pairs. Eg. \"Ant\" --> 0, \"Bat\" --> 1,...\n",
    "    3. Iterate through the original array and match the element with the mapping dictionary's keys, and assign them the encoded value.\n",
    "    \n",
    "\n",
    "___7) To check the goodness of fit for the Regression Model using Evaluation Metrics. The evaluation metrics can be selected based on a parameter (\"R2\", \"MSE\", \"MAE\").___\n",
    "\n",
    "I created a user defined function, with three arguments, true values array, predicted values array and evaluation metrics array. After which I calculated the ```R2 SCORE | MSE SCORE | MAE SCORE``` using their formulas avaiable on the internet.\n",
    "\n",
    "### Question 3\n",
    "\n",
    "Question 3 Involved comparing the functions I created with the pre-existing python library methods, as well as applying the created functions on the dataset provided, to answer certain questions\n",
    "\n",
    "---\n",
    "> # Observations \n",
    "\n",
    "- The user-defined functions created by me, for measuring the evalutation metrics (R2|MSE|MAE), return the exact same value, as that of the 'sklearn.metrics' python library methods.\n",
    "\n",
    "- The user-defined functions created by me, for measuring the measures of central tendancy (mean|median|mode), return the exact same value, as that of the 'statistics' python library methods.\n",
    "\n",
    "- The user-defined functions created by me, for label encoding categorical variables, return the exact same value and order, as that of the 'sklearn.preprocessing' python library methods.\n",
    "\n",
    "- The user-defined functions created by me, for minmax scaling, return the exact same values, as that of the 'sklearn.preprocessing' python library methods, except the highest value. The highest value in my scalled values is represented by 1, while the highest value in the sklearn.preprocessing module is 0.9999999.\n",
    "\n",
    "\n",
    "- From the calculations conducted, it can be seen that the size of the dataset does not effect the evaluation metric values (R2 | MSE | MAE), till the datasts considered are identical. The values returned for different sized dataset were the same.\n",
    "\n",
    "- R2 Score value is the square of the Pearson Correlation Coefficient (R).\n",
    "\n",
    "---\n",
    "> # Results \n",
    "\n",
    "The functions created by me, act in a similar manner to that of the sklearn library. The sklearn library has more customisability and is tailor-made for working with pandas dataframe objects.\n",
    "\n",
    "---\n",
    "\n",
    "> # Learnings\n",
    "\n",
    "This lab made me appreciate what goes behind the making of such elaborate libraries. It aslo improved my array manuvering skills and my logical application.\n",
    "\n",
    "---\n",
    "> # References\n",
    "\n",
    "1. Sklearn Documentation: https://scikit-learn.org/stable/\n",
    "2. Matplot Library Documnentaion: https://matplotlib.org/stable/api/_as_gen/matplotlib.pyplot.scatter.html \n",
    "3. GeeksForGeeks: https://www.geeksforgeeks.org/ \n",
    "4. StackOverflow: https://stackoverflow.com/ \n",
    "\n",
    "---\n",
    "> # Completion Status:\n",
    "\n",
    "| Question | Status |\n",
    "| --- | --- |\n",
    "| __Question 1__ | Completed |\n",
    "| __Question 2__ | Completed |\n",
    "| Question 2.1 | Completed |\n",
    "| Question 2.2 | Completed |\n",
    "| Question 2.3 | Completed |\n",
    "| Question 2.4 | Completed |\n",
    "| Question 2.5 | Completed |\n",
    "| Question 2.6 | Completed |\n",
    "| Question 2.7 | Completed |\n",
    "| __Question 3__ | Completed |\n",
    "| Question 3.1 | Completed |\n",
    "| Question 3.2 | Completed |\n",
    "| Question 3.3 | Completed |\n",
    "| Question 3.4 | Completed |\n",
    "\n",
    "---"
   ]
  },
  {
   "cell_type": "markdown",
   "id": "acd5143f",
   "metadata": {},
   "source": [
    "__importing required libraries__"
   ]
  },
  {
   "cell_type": "code",
   "execution_count": 249,
   "id": "25d8de8f",
   "metadata": {},
   "outputs": [],
   "source": [
    "#importing required libraries\n",
    "import matplotlib.pyplot as plt\n",
    "import pandas as pd"
   ]
  },
  {
   "cell_type": "markdown",
   "id": "4893944f",
   "metadata": {},
   "source": [
    "## Questions"
   ]
  },
  {
   "cell_type": "markdown",
   "id": "df813ff7",
   "metadata": {},
   "source": [
    "### Question 1 \n",
    "From the attached file, load the three different sheets as \"df1\", \"df2\", and \"df3\" onto the memory of Jupyter Notebook, as Python DataFrames."
   ]
  },
  {
   "cell_type": "code",
   "execution_count": 2,
   "id": "33dcd379",
   "metadata": {},
   "outputs": [],
   "source": [
    "df1 = pd.read_excel(\"dataset_prep.xlsx\",sheet_name=\"Dataset1\")\n",
    "df2 = pd.read_excel(\"dataset_prep.xlsx\",sheet_name=\"Dataset2\")\n",
    "df3 = pd.read_excel(\"dataset_prep.xlsx\",sheet_name=\"Dataset3\")"
   ]
  },
  {
   "cell_type": "code",
   "execution_count": 3,
   "id": "3ddcde87",
   "metadata": {},
   "outputs": [
    {
     "name": "stdout",
     "output_type": "stream",
     "text": [
      "Dataset 1 (Shape) :  (15, 2)\n",
      "Dataset 2 (Shape) :  (30, 2)\n",
      "Dataset 3 (Shape) :  (30, 3)\n"
     ]
    }
   ],
   "source": [
    "print(\"Dataset 1 (Shape) : \",df1.shape)\n",
    "print(\"Dataset 2 (Shape) : \",df2.shape)\n",
    "print(\"Dataset 3 (Shape) : \",df3.shape)"
   ]
  },
  {
   "cell_type": "markdown",
   "id": "49976d7a",
   "metadata": {},
   "source": [
    "---\n",
    "__Method__\n",
    "\n",
    "The datasetes are imported through pandas ```read_excel()``` method. To import different sheets of the same excel file a second parameter called 'sheet_name' is passed, and the sheet name is specified in the same.\n",
    "\n",
    "The datasetes shape has been retrieved through the ```.shape()``` method, and its evident as rows, column for each dataset.\n",
    "\n",
    "__Observation__\n",
    "```\n",
    "Dataset 1 (Shape) :  (15, 2)\n",
    "Dataset 2 (Shape) :  (30, 2)\n",
    "Dataset 3 (Shape) :  (30, 3)\n",
    "```\n",
    "---"
   ]
  },
  {
   "cell_type": "markdown",
   "id": "6704b829",
   "metadata": {},
   "source": [
    "### Question 2\n",
    "Write the user defined functions for the implementation of following -"
   ]
  },
  {
   "cell_type": "markdown",
   "id": "2bab51cf",
   "metadata": {},
   "source": [
    "__1)__\n",
    "To find the measures of central tendency. Another function parameter can select what type of value should be returned.\n",
    "\n",
    "    1) Mean\n",
    "    2) Median\n",
    "    3) Mode"
   ]
  },
  {
   "cell_type": "code",
   "execution_count": 174,
   "id": "b2c58e2d",
   "metadata": {},
   "outputs": [],
   "source": [
    "#Function to loop through the array and return the highest and lowest values.\n",
    "def max_min_value(arr):\n",
    "    maxim, minim = 0, arr[0]\n",
    "    for x in arr:\n",
    "        if x<minim:\n",
    "            minim = x\n",
    "        if x>maxim:\n",
    "            maxim = x\n",
    "        else:\n",
    "            continue\n",
    "            \n",
    "    return maxim, minim\n",
    "\n",
    "#Function to apply a bubble sort\n",
    "def bubble_sort(array):\n",
    "    arr = array\n",
    "    for x in range(0,len(arr)):\n",
    "        for y in range (0,len(arr)-1):\n",
    "            if arr[y]>arr[y+1]:\n",
    "                arr[y], arr[y+1] =arr[y+1], arr[y]    \n",
    "    return arr\n",
    "\n",
    "#Function to return the mean and the occuring frequencies in a list, in the form of a dictionary\n",
    "def arr_mean(arr):\n",
    "    total = 0\n",
    "    \n",
    "    for index in range(len(arr)):\n",
    "            total = total + arr[index]\n",
    "                \n",
    "    mean = total/len(arr)\n",
    "\n",
    "    return mean\n",
    "\n",
    "#Funcrtion to calculate the median, given an array\n",
    "def arr_median(arr):\n",
    "    if len(arr)%2==0:\n",
    "        index_1, index_2 = int(len(arr)/2) ,int(len(arr)/2)+1\n",
    "        median = round(((arr[index_1-1]+arr[index_2-1])/2),3)\n",
    "\n",
    "    else:\n",
    "        median_index = int((len(arr)+1)/2)\n",
    "        median = arr[median_index-1]\n",
    "        \n",
    "    return median\n",
    "\n",
    "#Function to calculate the median, given a dictionary with all the frequencies\n",
    "def arr_mode(arr):\n",
    "    \n",
    "    #Creating a dictionary with all the mapped frequencies\n",
    "    freq = {}\n",
    "    for index in range(len(arr)):\n",
    "        if arr[index] in freq.keys():\n",
    "            freq[arr[index]] = freq[arr[index]] +1\n",
    "\n",
    "        else:\n",
    "            freq[arr[index]] = 1     \n",
    "    \n",
    "\n",
    "    #Creating an array to contain all the highest frequency items\n",
    "    highest_freq, lowest_freq = max_min_value(list(freq.values()))\n",
    "    arr_m = [x for x in freq if freq[x]==highest_freq]\n",
    "    \n",
    "    \n",
    "    return arr_m[0]"
   ]
  },
  {
   "cell_type": "code",
   "execution_count": 175,
   "id": "e32055e6",
   "metadata": {},
   "outputs": [],
   "source": [
    "# A function to calculate the various measures of central tendancy\n",
    "def central_tendancy(arr, method = None):           \n",
    "            \n",
    "    if method == \"Mean\":\n",
    "        mean = arr_mean(arr)   \n",
    "        return mean\n",
    "\n",
    "    if method == \"Median\":\n",
    "        sorted_arr = bubble_sort(arr)\n",
    "        median = arr_median(sorted_arr)\n",
    "        return median\n",
    "\n",
    "    if method == \"Mode\":\n",
    "        mode = arr_mode(arr)\n",
    "        return mode\n",
    "    \n",
    "    else:\n",
    "        print(\"Error! method argument incorrect!\")"
   ]
  },
  {
   "cell_type": "code",
   "execution_count": 176,
   "id": "077881d9",
   "metadata": {},
   "outputs": [
    {
     "name": "stdout",
     "output_type": "stream",
     "text": [
      "Sample Array :  [1, 2, 3, 3, 4, 5, 5, 5, 10, 10, 10, 12, 15, 20, 23, 80]\n",
      "Mode :  5\n",
      "Mean :  7.5\n",
      "Median :  13.0\n"
     ]
    }
   ],
   "source": [
    "#Driver / Test Code\n",
    "arr = [1,5,10,3,15,5,5,80,23,20,10,10,4,3,2,12]\n",
    "mode = central_tendancy(arr,\"Mode\")\n",
    "mean = central_tendancy(arr,\"Median\")\n",
    "median = central_tendancy(arr,\"Mean\")\n",
    "\n",
    "print(\"Sample Array : \", arr)\n",
    "print(\"Mode : \", mode)\n",
    "print(\"Mean : \", mean)\n",
    "print(\"Median : \", median)"
   ]
  },
  {
   "cell_type": "markdown",
   "id": "4a5721e8",
   "metadata": {},
   "source": [
    "---\n",
    "__Method__\n",
    "\n",
    "A user defined function is created to calculate the measures of tendancy. A keyword argument called method is passed, which enables the user to pass `\"Mode\" / \"Median\" / \"Median\"` and the function calculates the same. The function makes use of other smaller user defined functions, for each task. The processes used for each tendency are as follows:\n",
    "\n",
    "    1. Median (arr_median) : For calculating the median, a bubble sort enabling function is created, which sorts the array post which the standard median formula is used to find the required index. The index formula changes depending on whether the number of elements are even or odd.\n",
    "    \n",
    "    2. Mode (arr_mode) : For calculating the mode, we create a dictionary, which contains the frequency of each value in the array. Then we calculate the highest frequency. We use that frequency along with list comprehension to create an array of values, which all have the highest frequency. We return the first highest repetitive value as the mode.\n",
    "    \n",
    "    3. Mean : For calculating the mean, we initialise a total integer variable. Then, we loop through the array, and summate / keep adding the individual iterated value to the toal. In the end we, divide the total variable with the length of the array.\n",
    "\n",
    "---"
   ]
  },
  {
   "cell_type": "markdown",
   "id": "1a669102",
   "metadata": {},
   "source": [
    "__2)__\n",
    "To scale a list of Numerical Values between 0 and 1 (minimum and maximum will be respectively 0, and 1)"
   ]
  },
  {
   "cell_type": "code",
   "execution_count": 177,
   "id": "89508437",
   "metadata": {},
   "outputs": [],
   "source": [
    "# A function to scale an array to values ranging from 0 to 1 \n",
    "def min_max_scaling(arr):\n",
    "    max_val, min_val = max_min_value(arr) # using my own user-defined functions to extract min, max values\n",
    "    arr_scaled = []\n",
    "    for x in arr:\n",
    "        scalled_x = (x-min_val)/(max_val-min_val)\n",
    "        arr_scaled.append(scalled_x)\n",
    "    \n",
    "    return arr_scaled"
   ]
  },
  {
   "cell_type": "code",
   "execution_count": 178,
   "id": "6c53481f",
   "metadata": {},
   "outputs": [
    {
     "data": {
      "text/plain": [
       "[0.0,\n",
       " 0.012658227848101266,\n",
       " 0.02531645569620253,\n",
       " 0.02531645569620253,\n",
       " 0.0379746835443038,\n",
       " 0.05063291139240506,\n",
       " 0.05063291139240506,\n",
       " 0.05063291139240506,\n",
       " 0.11392405063291139,\n",
       " 0.11392405063291139,\n",
       " 0.11392405063291139,\n",
       " 0.13924050632911392,\n",
       " 0.17721518987341772,\n",
       " 0.24050632911392406,\n",
       " 0.27848101265822783,\n",
       " 1.0]"
      ]
     },
     "execution_count": 178,
     "metadata": {},
     "output_type": "execute_result"
    }
   ],
   "source": [
    "#Driver / Test Code\n",
    "#arr = [1,5,10,3,15,5,5,80,23,20,10,10,4,3,2,12]\n",
    "scalled_arr = min_max_scaling(arr)\n",
    "scalled_arr"
   ]
  },
  {
   "cell_type": "markdown",
   "id": "6b4f4e1d",
   "metadata": {},
   "source": [
    "---\n",
    "\n",
    "__Method__ \n",
    "\n",
    "I created a user defined function to convert the array's values to percentile ranks. We, iterate through the array and apply the formula below to calculate the rank of each value, and then create key value pairs, where the key is the value and the value is the percentile rank.\n",
    "\n",
    "```Formula --> rank_x = (total values below 'x' / total values) X 100```\n",
    "\n",
    "Finally, I returned the ranks in a dictionary format.\n",
    "\n",
    "---"
   ]
  },
  {
   "cell_type": "markdown",
   "id": "56f35181",
   "metadata": {},
   "source": [
    "__3)__\n",
    "Given a number and a set of values (in a list), find the percentile of the number in that array set."
   ]
  },
  {
   "cell_type": "code",
   "execution_count": 179,
   "id": "c70a5cad",
   "metadata": {},
   "outputs": [],
   "source": [
    "#Creating a user-defined function to caluclate the ranks of each value of the array\n",
    "def percentile_arr(arr):\n",
    "    sorted_arr = bubble_sort(arr) #Sorting the array with a user-defined function created earlier\n",
    "    percentile_dict = {}\n",
    "    \n",
    "    #Iterating through the array\n",
    "    for x in range(len(sorted_arr)):\n",
    "        rank = (len(sorted_arr[:x])/len(sorted_arr))*100  #Percentile Rank generating formula\n",
    "        percentile_dict[arr[x]] = rank\n",
    "        \n",
    "    return percentile_dict"
   ]
  },
  {
   "cell_type": "code",
   "execution_count": 180,
   "id": "2f962a3f",
   "metadata": {},
   "outputs": [
    {
     "data": {
      "text/plain": [
       "{1: 0.0,\n",
       " 2: 6.25,\n",
       " 3: 18.75,\n",
       " 4: 25.0,\n",
       " 5: 43.75,\n",
       " 10: 62.5,\n",
       " 12: 68.75,\n",
       " 15: 75.0,\n",
       " 20: 81.25,\n",
       " 23: 87.5,\n",
       " 80: 93.75}"
      ]
     },
     "execution_count": 180,
     "metadata": {},
     "output_type": "execute_result"
    }
   ],
   "source": [
    "#Driver / Test Code\n",
    "#arr = [1,5,10,3,15,5,5,80,23,20,10,10,4,3,2,12]\n",
    "ranked_arr = percentile_arr(arr)\n",
    "ranked_arr"
   ]
  },
  {
   "cell_type": "markdown",
   "id": "dab6c276",
   "metadata": {},
   "source": [
    "---\n",
    "\n",
    "__Method__ \n",
    "\n",
    "I created a user defined function to convert the array's values to percentile ranks. We, iterate through the array and apply the formula below to calculate the rank of each value, and then append the rank to a new list.\n",
    "\n",
    "```Formula --> rank_x = (total values below 'x' / total values) X 100```\n",
    "\n",
    "Finally, I returned the ranks in an array form.\n",
    "\n",
    "---"
   ]
  },
  {
   "cell_type": "markdown",
   "id": "746ed90b",
   "metadata": {},
   "source": [
    "__4)__\n",
    "Given a set of values, categorise the datapoints into the below measures and plot the values onto an axis\n",
    "\n",
    "    1. LEFT_OUTLIER \n",
    "    2. MIN\n",
    "    3. Q1 \n",
    "    4. Q2\n",
    "    5. Q3\n",
    "    6. MAX \n",
    "    7. RIGHT_OUTLIER, "
   ]
  },
  {
   "cell_type": "code",
   "execution_count": 181,
   "id": "dd1dd188",
   "metadata": {},
   "outputs": [],
   "source": [
    "#Creating a user defined function to extract outliers from an array\n",
    "def outlier_arr(arr):\n",
    "    left_outlier_arr, right_outlier_arr = [], []\n",
    "    \n",
    "    #Q1, Q3, IQR\n",
    "    q1_val = arr[((len(arr)+1)//4)]\n",
    "    q3_val = arr[((len(arr)+1)*3)//4]\n",
    "    iqr_val = q3_val - q1_val\n",
    "    \n",
    "    #Creating a threshold for the array, values outside of the thresh. will be considered outliers\n",
    "    left_outlier_thresh = q1_val - (1.5*iqr_val)\n",
    "    right_outlier_thresh = q3_val + (1.5*iqr_val)\n",
    "    \n",
    "    for element in arr: \n",
    "        if element<left_outlier_thresh:\n",
    "            left_outlier_arr.append(element)\n",
    "            \n",
    "        if element>right_outlier_thresh:\n",
    "            right_outlier_arr.append(element)\n",
    "            \n",
    "    return left_outlier_arr, right_outlier_arr"
   ]
  },
  {
   "cell_type": "code",
   "execution_count": 182,
   "id": "4c17f0f4",
   "metadata": {},
   "outputs": [],
   "source": [
    "#Creating a user defined function Calculating all the required statistical values\n",
    "def calc_stats(arr):\n",
    "    #Sorting the array with a user-defined function created earlier\n",
    "    sorted_arr = bubble_sort(arr) \n",
    "    #Calculating the minimum and maximum value from the previously created user-defined function\n",
    "    max_act_val , min_act_val = max_min_value(sorted_arr) \n",
    "    #Q1, Q2, Q3\n",
    "    q1_val = sorted_arr[((len(sorted_arr)+1)//4)]\n",
    "    med_val = arr_median(sorted_arr)\n",
    "    q3_val = sorted_arr[((len(sorted_arr)+1)*3)//4]\n",
    "    #Inter-Quartile Range\n",
    "    iqr_val = q3_val - q1_val\n",
    "    \n",
    "    #Calculating the outliers \n",
    "    left_outlier, right_outlier = outlier_arr(sorted_arr)\n",
    "    \n",
    "    min_val = q1_val - (1.5*iqr_val)\n",
    "    max_val = q3_val + (1.5*iqr_val)\n",
    "    \n",
    "    if min_val<min_act_val:\n",
    "        min_val = min_act_val\n",
    "    \n",
    "    if max_val>max_act_val:\n",
    "        max_val = max_act_val\n",
    "        \n",
    "        \n",
    "    arr_stats = [min_act_val,min_val,\n",
    "                 q1_val,\n",
    "                 med_val,\n",
    "                 q3_val,\n",
    "                 max_val,max_act_val]\n",
    "    \n",
    "    return arr_stats, left_outlier, right_outlier"
   ]
  },
  {
   "cell_type": "code",
   "execution_count": 183,
   "id": "dfd5b090",
   "metadata": {},
   "outputs": [
    {
     "data": {
      "text/plain": [
       "[1, 1, 4, 7.5, 15, 31.5, 80]"
      ]
     },
     "execution_count": 183,
     "metadata": {},
     "output_type": "execute_result"
    }
   ],
   "source": [
    "#Driver / Test Code\n",
    "#arr = [1,5,10,3,15,5,5,80,23,20,10,10,4,3,2,12]\n",
    "arr_stat, left_outl_arr, right_outl_arr = calc_stats(arr)\n",
    "outl_arr=[left_outl_arr + right_outl_arr]\n",
    "arr_stat"
   ]
  },
  {
   "cell_type": "code",
   "execution_count": 184,
   "id": "623ad689",
   "metadata": {
    "scrolled": false
   },
   "outputs": [
    {
     "data": {
      "text/plain": [
       "(-9.0, 90.0)"
      ]
     },
     "execution_count": 184,
     "metadata": {},
     "output_type": "execute_result"
    },
    {
     "data": {
      "image/png": "[encoded data removed]",
      "text/plain": [
       "<Figure size 864x504 with 1 Axes>"
      ]
     },
     "metadata": {
      "needs_background": "light"
     },
     "output_type": "display_data"
    }
   ],
   "source": [
    "#Plotting the data spread with 5 STAT summary\n",
    "sorted_arr = bubble_sort(arr)\n",
    "plt.figure(figsize=(12\n",
    "                    ,7)) \n",
    "plt.title(\"Data Spread through Statistical Measures\",fontsize=20, c='b')\n",
    "plt.scatter(y=[\"\"],x=arr_stat[1],s=320,color=\"red\", marker = \"_\")\n",
    "plt.scatter(y=[\"\"],x=arr_stat[3],s=220,color=\"lightgreen\")\n",
    "plt.scatter(y=[\"\"],x=arr_stat[5],s=320,color=\"red\", marker = \"+\")\n",
    "plt.scatter(y=[\"\" for x in range(len(sorted_arr))],x=sorted_arr,s=5,color=\"blue\")\n",
    "plt.scatter(y=[\"\" for x in range(len(outl_arr))],\n",
    "            x=outl_arr,s=30,color=\"yellow\",marker = \"o\")\n",
    "\n",
    "\n",
    "plt.legend([\"Minimum\",\"Median\",\"Maximum\",\"Data Values\",\"Outliers\"])\n",
    "\n",
    "plt.scatter(y=[\"\"],x=arr_stat[2],s=5000,color=\"darkgreen\",marker = \"|\")\n",
    "plt.scatter(y=[\"\"],x=arr_stat[4],s=5000,color= \"darkgreen\",marker = \"|\")\n",
    "\n",
    "\n",
    "\n",
    "\n",
    "\n",
    "plt.xlim([arr_stat[0]-10,arr_stat[6]+10])"
   ]
  },
  {
   "cell_type": "code",
   "execution_count": 185,
   "id": "d75bcc6b",
   "metadata": {},
   "outputs": [
    {
     "data": {
      "text/plain": [
       "(-9.0, 90.0)"
      ]
     },
     "execution_count": 185,
     "metadata": {},
     "output_type": "execute_result"
    },
    {
     "data": {
      "image/png": "[encoded data removed]",
      "text/plain": [
       "<Figure size 432x252 with 1 Axes>"
      ]
     },
     "metadata": {
      "needs_background": "light"
     },
     "output_type": "display_data"
    }
   ],
   "source": [
    "#Plotting the 5 STAT Summary\n",
    "plt.figure(figsize=(6\n",
    "                    ,3.5)) \n",
    "plt.title(\"5 STAT SUMMARY\",fontsize=20, c='b')\n",
    "\n",
    "plt.scatter(y=[\"\"],x=arr_stat[1],s=320,color=\"red\", marker = \"_\")\n",
    "plt.scatter(y=[\"\"],x=arr_stat[3],s=220,color=\"lightgreen\")\n",
    "plt.scatter(y=[\"\"],x=arr_stat[5],s=320,color=\"red\", marker = \"+\")\n",
    "plt.legend([\"Minimum\",\"Median\",\"Maximum\"])\n",
    "\n",
    "plt.scatter(y=[\"\"],x=arr_stat[2],s=5000,color=\"darkgreen\",marker = \"|\")\n",
    "plt.scatter(y=[\"\"],x=arr_stat[4],s=5000,color= \"darkgreen\",marker = \"|\")\n",
    "\n",
    "\n",
    "plt.xlim([arr_stat[0]-10,arr_stat[6]+10])"
   ]
  },
  {
   "cell_type": "markdown",
   "id": "d1789d5c",
   "metadata": {},
   "source": [
    "---\n",
    "__Method__\n",
    "\n",
    "I created a user-defined function, to calculate ```Q1 | Median | Q3 | IQR | Right Outlier | Left Outlier | MIN | MAX | IQR``` and used the values to display a scatter plot that resembles a box plot.\n",
    "\n",
    "- The left outliers are all the elements that fall below the lower IQR threshold, which is Q1 - 1.5 X IQR.\n",
    "\n",
    "- The right outliers are all the elements that fall above the lower IQR threshold, which is Q3 + 1.5 X IQR.\n",
    "\n",
    "For plotting the plot, we plot multiple scatter plots on one axis with different marker size, color and shape. We leave the y axis empty, and we define the legend in the order of the plots. \n",
    "\n",
    "---"
   ]
  },
  {
   "cell_type": "markdown",
   "id": "9e877e2e",
   "metadata": {},
   "source": [
    "__5)__\n",
    "Given two sets of values, find the correlation between them"
   ]
  },
  {
   "cell_type": "code",
   "execution_count": 186,
   "id": "1353e703",
   "metadata": {},
   "outputs": [],
   "source": [
    "#Creating a user-defined function to\n",
    "def corr_arr(arr1,arr2):\n",
    "    x_mean = arr_mean(arr1)\n",
    "    y_mean = arr_mean(arr2)\n",
    "    \n",
    "    numerator = 0\n",
    "    denom_1 = 0\n",
    "    denom_2 = 0\n",
    "    \n",
    "    for index in range(len(arr1)):\n",
    "        numerator = numerator + ((arr1[index]-x_mean)*(arr2[index]-y_mean))\n",
    "        denom_1 = denom_1 + ((arr1[index]-x_mean)**2)\n",
    "        denom_2 = denom_2 + ((arr2[index]-y_mean)**2)\n",
    "        \n",
    "    cor = numerator / ((denom_1)*(denom_2))**(1/2)\n",
    "    \n",
    "    return cor"
   ]
  },
  {
   "cell_type": "code",
   "execution_count": 187,
   "id": "4f289063",
   "metadata": {},
   "outputs": [
    {
     "data": {
      "text/plain": [
       "0.9926079531311157"
      ]
     },
     "execution_count": 187,
     "metadata": {},
     "output_type": "execute_result"
    }
   ],
   "source": [
    "#Driver / Test Code\n",
    "arr_1 = list(df1[\"True_Value\"])\n",
    "arr_2 = list(df1[\"Predicted_Value\"])\n",
    "\n",
    "corr_val = corr_arr(arr_1, arr_2)\n",
    "corr_val"
   ]
  },
  {
   "cell_type": "markdown",
   "id": "d093a31d",
   "metadata": {},
   "source": [
    "---\n",
    "__Method__\n",
    "\n",
    "I created a user defined function, with two arguments, array 1 and array 2. Post doing that I applied the infamous ```spearman's rank correlation``` formula.\n",
    "\n",
    "---"
   ]
  },
  {
   "cell_type": "markdown",
   "id": "6e4e3b53",
   "metadata": {},
   "source": [
    "__6)__\n",
    "To encode and decode a Categorical Variable into a Numerical Representation."
   ]
  },
  {
   "cell_type": "code",
   "execution_count": 188,
   "id": "63bc3b91",
   "metadata": {},
   "outputs": [],
   "source": [
    "#Creating a user-defined function to encode any given categorical array\n",
    "def encode_arr(array):\n",
    "    arr_copy = array.copy()\n",
    "    sorted_array = bubble_sort(array) #Sorting the array with the help of user defined function created earlier\n",
    "    mapped_vals = {} #Creating an empty dictionary to hold the values\n",
    "    num = 0  #Initiating the encoded values number\n",
    "    \n",
    "    #Iterating through the array \n",
    "    for x in sorted_array:\n",
    "        if x in mapped_vals.keys():\n",
    "            pass\n",
    "        else:\n",
    "            mapped_vals[x] = num\n",
    "            num +=1\n",
    "    \n",
    "    encoded_arr = []\n",
    "    for element in arr_copy:\n",
    "        for key in mapped_vals.keys():\n",
    "            if element == key:\n",
    "                encoded_arr.append(mapped_vals[element])\n",
    "            else:\n",
    "                continue\n",
    "    \n",
    "    \n",
    "    return encoded_arr , mapped_vals"
   ]
  },
  {
   "cell_type": "code",
   "execution_count": 189,
   "id": "9e728f0d",
   "metadata": {},
   "outputs": [
    {
     "name": "stdout",
     "output_type": "stream",
     "text": [
      "[0, 0, 1, 7, 5, 2, 9, 6, 0, 6, 3, 4, 8, 5]\n",
      "\n",
      "{'Ant': 0, 'Bat': 1, 'Cricket': 2, 'Dog': 3, 'Elephant': 4, 'Hippo': 5, 'Monkey': 6, 'Mosquito': 7, 'Rat': 8, 'Roach': 9}\n"
     ]
    }
   ],
   "source": [
    "#Driver/Test Code\n",
    "arr2 = [\"Ant\",\"Ant\",\"Bat\",\"Mosquito\",\"Hippo\",\"Cricket\",\"Roach\",\"Monkey\",\"Ant\",\"Monkey\",\n",
    "      \"Dog\",\"Elephant\",\"Rat\",\"Hippo\"]\n",
    "\n",
    "encoded_arr, mapping_dict = encode_arr(arr2)\n",
    "\n",
    "print(encoded_arr,end='\\n\\n')\n",
    "print(mapping_dict)"
   ]
  },
  {
   "cell_type": "markdown",
   "id": "1b748e73",
   "metadata": {},
   "source": [
    "---\n",
    "__Method__\n",
    "\n",
    "I created a user defined function, which follows the following steps to label encode the values of an array:\n",
    "\n",
    "    1. Sort the array in ascending order\n",
    "    2. Find all the unique values, and map them to a unique encoded number and store it as key and value pairs. Eg. \"Ant\" --> 0, \"Bat\" --> 1,...\n",
    "    3. Iterate through the original array and match the element with the mapping dictionary's keys, and assign them the encoded value.\n",
    "\n",
    "---"
   ]
  },
  {
   "cell_type": "markdown",
   "id": "38e853bf",
   "metadata": {},
   "source": [
    "___7)___ To check the goodness of fit for the Regression Model using Evaluation Metrics. The evaluation metrics can be selected based on a parameter (\"R2\", \"MSE\", \"MAE\").\n",
    "\n",
    "    1. R-Squared (R² or the coefficient of determination)\n",
    "    2. Mean Squared Error\n",
    "    3. Mean Absolute Error\n"
   ]
  },
  {
   "cell_type": "code",
   "execution_count": 190,
   "id": "1fe75a15",
   "metadata": {},
   "outputs": [],
   "source": [
    "#Creating a user-defined function to generate R-Squared, Mean Squared Error, Mean Absolute Error\n",
    "def evaluation_metrics(true_arr, pred_arr, method = None):\n",
    "    if method==\"R2\":\n",
    "        RSS = 0 #sum of squares of residuals\n",
    "        TSS = 0 #total sum of squares\n",
    "        true_arr_mean = arr_mean(true_arr)\n",
    "        \n",
    "        for index in range(len(true_arr)):\n",
    "            RSS = RSS + (true_arr[index]-pred_arr[index])**2\n",
    "            TSS = TSS + (true_arr[index]-true_arr_mean)**2\n",
    "            \n",
    "        r_square_score = 1 - (RSS/TSS)\n",
    "        return r_square_score\n",
    "        \n",
    "    if method==\"MSE\":\n",
    "        squared_error = 0\n",
    "        for index in range(len(pred_arr)):\n",
    "            squared_error += (true_arr[index] - pred_arr[index])**2\n",
    "        \n",
    "        mse = squared_error / len(true_arr)\n",
    "        return mse\n",
    "            \n",
    "    if method==\"MAE\":\n",
    "        error = 0\n",
    "        for index in range(len(pred_arr)):\n",
    "            error += abs(true_arr[index] - pred_arr[index])\n",
    "        \n",
    "        mae = error / len(true_arr)\n",
    "        \n",
    "        return mae\n",
    "    \n",
    "    else:\n",
    "        print(\"Error! Wrong keyword argument.\")"
   ]
  },
  {
   "cell_type": "code",
   "execution_count": 191,
   "id": "3e6e5da7",
   "metadata": {},
   "outputs": [
    {
     "name": "stdout",
     "output_type": "stream",
     "text": [
      "R2 Score :  0.9825872956909361\n",
      "MSE Score :  1.6666666666666667\n",
      "MAE Score :  0.8666666666666667\n"
     ]
    }
   ],
   "source": [
    "#Driver/Testing Code\n",
    "\n",
    "true_val_test = df1[\"True_Value\"].to_list()\n",
    "pred_val_test = df1[\"Predicted_Value\"].to_list()\n",
    "\n",
    "r2_score = evaluation_metrics(true_val_test,pred_val_test,\"R2\")\n",
    "mse_score = evaluation_metrics(true_val_test,pred_val_test,\"MSE\")\n",
    "mae_score = evaluation_metrics(true_val_test,pred_val_test,\"MAE\")\n",
    "\n",
    "print(\"R2 Score : \", r2_score)\n",
    "print(\"MSE Score : \", mse_score)\n",
    "print(\"MAE Score : \", mae_score)"
   ]
  },
  {
   "cell_type": "markdown",
   "id": "a8fe260c",
   "metadata": {},
   "source": [
    "---\n",
    "__Method__\n",
    "\n",
    "I created a user defined function, with three arguments, true values array, predicted values array and evaluation metrics array. After which I calculated the ```R2 SCORE | MSE SCORE | MAE SCORE``` using their formulas avaiable on the internet.\n",
    "\n",
    "---"
   ]
  },
  {
   "cell_type": "markdown",
   "id": "3ab44be1",
   "metadata": {},
   "source": [
    "### Question 3\n",
    "Make use of the above user-defined functions, and illustrate the results. In addition that, perform the below tasks -"
   ]
  },
  {
   "cell_type": "markdown",
   "id": "475e5539",
   "metadata": {},
   "source": [
    "__1)__\n",
    "Test the User Defined Functions that you code for various functionalities, and verify its validity by comparing with functions in sklearn.preprocessing "
   ]
  },
  {
   "cell_type": "code",
   "execution_count": 207,
   "id": "e29bcfc8",
   "metadata": {},
   "outputs": [],
   "source": [
    "from sklearn.metrics import r2_score\n",
    "from sklearn.metrics import mean_squared_error\n",
    "from sklearn.metrics import mean_absolute_error\n",
    "from sklearn.preprocessing import LabelEncoder as le\n",
    "from sklearn.preprocessing import MinMaxScaler\n",
    "import statistics"
   ]
  },
  {
   "cell_type": "code",
   "execution_count": 193,
   "id": "b46be003",
   "metadata": {},
   "outputs": [
    {
     "name": "stdout",
     "output_type": "stream",
     "text": [
      "--------------------------------Comparing Evaluation Metrics Values---------------------------------\n",
      "\n",
      "R2 Score (sklearn.metrics) :  0.9825872956909361\n",
      "R2 Score (User-Defined Function) :  0.9825872956909361\n",
      "Equality :  True\n",
      "Difference :  0.0\n",
      "\n",
      "MSE Score (sklearn.metrics) :  1.6666666666666667\n",
      "MSE Score (User-Defined Function) :  1.6666666666666667\n",
      "Equality :  True\n",
      "Difference :  0.0\n",
      "\n",
      "MAE Score (sklearn.metrics) :  0.8666666666666667\n",
      "MAE Score (User-Defined Function) :  0.8666666666666667\n",
      "Equality :  True\n",
      "Difference :  0.0\n",
      "\n",
      "--------------------------------------------------------------------------------------------------------------\n"
     ]
    }
   ],
   "source": [
    "#Comparing Evaluation Metrics --> R2, MSE, MAE Scores\n",
    "\n",
    "print((\"Comparing Evaluation Metrics Values\").center(100,'-'))\n",
    "print()\n",
    "\n",
    "#R2 SCORE\n",
    "r2_sklearn = r2_score(true_val_test,pred_val_test)\n",
    "r2_func = evaluation_metrics(true_val_test,pred_val_test,\"R2\")\n",
    "          \n",
    "print(\"R2 Score (sklearn.metrics) : \", r2_sklearn)\n",
    "print(\"R2 Score (User-Defined Function) : \",r2_func )\n",
    "print(\"Equality : \", r2_sklearn==r2_func)\n",
    "print(\"Difference : \",r2_sklearn-r2_func)\n",
    "print()\n",
    "\n",
    "#MSE Scores\n",
    "mse_sklearn = mean_squared_error(true_val_test, pred_val_test)\n",
    "mse_func = evaluation_metrics(true_val_test,pred_val_test,\"MSE\")\n",
    "         \n",
    "print(\"MSE Score (sklearn.metrics) : \", mse_sklearn)\n",
    "print(\"MSE Score (User-Defined Function) : \",mse_func )\n",
    "print(\"Equality : \", mse_sklearn==mse_func)\n",
    "print(\"Difference : \",mse_sklearn-mse_func)\n",
    "print()\n",
    "\n",
    "#MAE Scores\n",
    "mae_sklearn = mean_absolute_error(true_val_test, pred_val_test)\n",
    "mae_func = evaluation_metrics(true_val_test,pred_val_test,\"MAE\")\n",
    "         \n",
    "print(\"MAE Score (sklearn.metrics) : \", mae_sklearn)\n",
    "print(\"MAE Score (User-Defined Function) : \",mae_func )\n",
    "print(\"Equality : \", mae_sklearn==mae_func)\n",
    "print(\"Difference : \",mae_sklearn-mae_func)\n",
    "print()\n",
    "print(('-')*110)"
   ]
  },
  {
   "cell_type": "markdown",
   "id": "cb580794",
   "metadata": {},
   "source": [
    "__Observation :__\n",
    "\n",
    "The user-defined functions created by me, for measuring the evalutation metrics (R2|MSE|MAE), return the exact same value, as that of the 'sklearn.metrics' python library methods.\n",
    "\n",
    "---"
   ]
  },
  {
   "cell_type": "code",
   "execution_count": 209,
   "id": "f6b86e09",
   "metadata": {},
   "outputs": [],
   "source": [
    "#Function to perform label encoding on any column\n",
    "def labelEncode(df,col):\n",
    "    dict_map ={} #dictionary that stores the mapping\n",
    "    \n",
    "    pre_val = list(df[col].unique())\n",
    "    \n",
    "    le = LabelEncoder()\n",
    "    df[col] = le.fit_transform(df[col])\n",
    "    \n",
    "    map_val = list(df[col].unique())\n",
    "    \n",
    "    for x in range(0,len(pre_val)):\n",
    "        dict_map[pre_val[x]] = map_val[x]\n",
    "        \n",
    "    return dict_map"
   ]
  },
  {
   "cell_type": "code",
   "execution_count": 233,
   "id": "d750b63c",
   "metadata": {},
   "outputs": [
    {
     "name": "stdout",
     "output_type": "stream",
     "text": [
      "-------------Comparing Label Encoding (sklearn.preprocessing vs user-defined functions)-------------\n",
      "\n",
      "Encoded Values (sklearn.preprocessing) :  [0, 0, 1, 7, 5, 2, 9, 6, 0, 6, 3, 4, 8, 5]\n",
      "Encoded Values (user-defined function) :  [0, 0, 1, 7, 5, 2, 9, 6, 0, 6, 3, 4, 8, 5]\n",
      "Mapping Equality :  True\n",
      "Mapping + Order Equality :  True\n",
      "\n",
      "--------------------------------------------------------------------------------------------------------------\n"
     ]
    }
   ],
   "source": [
    "#Comparing Label Encoding\n",
    "\n",
    "#an array of animals for testing\n",
    "arr2 = [\"Ant\",\"Ant\",\"Bat\",\"Mosquito\",\"Hippo\",\"Cricket\",\"Roach\",\"Monkey\",\"Ant\",\"Monkey\",\n",
    "      \"Dog\",\"Elephant\",\"Rat\",\"Hippo\"]\n",
    "\n",
    "#Converting the array to a dataframe so that sklearn method can be applied\n",
    "df_le_test = pd.DataFrame(arr2,columns=[\"Animals\"])\n",
    "\n",
    "#Applying sklearn and user-defined function\n",
    "animals_encoded_arr, animals_mapping_dict = encode_arr(df_le_test[\"Animals\"].to_list())\n",
    "animals_le_map = labelEncode(df_le_test,\"Animals\")\n",
    "\n",
    "#comparing the values\n",
    "print((\"Comparing Label Encoding (sklearn.preprocessing vs user-defined functions)\").center(100,'-'))\n",
    "print()\n",
    "\n",
    "print(\"Encoded Values (sklearn.preprocessing) : \" , df_le_test[\"Animals\"].to_list())\n",
    "print(\"Encoded Values (user-defined function) : \", animals_encoded_arr)\n",
    "print(\"Mapping Equality : \",animals_mapping_dict == animals_le_map)\n",
    "print(\"Mapping + Order Equality : \",animals_encoded_arr == df_le_test[\"Animals\"].to_list())\n",
    "\n",
    "\n",
    "print()\n",
    "print(('-')*110)"
   ]
  },
  {
   "cell_type": "markdown",
   "id": "77528348",
   "metadata": {},
   "source": [
    "__Observation :__\n",
    "\n",
    "The user-defined functions created by me, for label encoding categorical variables, return the exact same value and order, as that of the 'sklearn.preprocessing' python library methods.\n",
    "\n",
    "---"
   ]
  },
  {
   "cell_type": "code",
   "execution_count": 243,
   "id": "441b7f01",
   "metadata": {},
   "outputs": [],
   "source": [
    "#Comparing MinMax Scaling\n",
    "trans_df = df1.copy()\n",
    "test_arr = trans_df[\"Predicted_Value\"].to_list()\n",
    "pred_mx = MinMaxScaler(feature_range=(0,1)) \n",
    "pred_mx.fit(trans_df[[\"Predicted_Value\"]]) \n",
    "trans_df[\"Transformed\"]=pred_mx.transform(trans_df[[\"Predicted_Value\"]])\n",
    "\n",
    "\n",
    "sk_min_max = trans_df[\"Transformed\"].to_list()\n",
    "func_min_max = min_max_scaling(test_arr)"
   ]
  },
  {
   "cell_type": "code",
   "execution_count": 247,
   "id": "7ca0bff2",
   "metadata": {},
   "outputs": [
    {
     "data": {
      "text/plain": [
       "[0.0,\n",
       " 0.2,\n",
       " 0.4,\n",
       " 0.6,\n",
       " 0.6,\n",
       " 0.6285714285714286,\n",
       " 0.6571428571428571,\n",
       " 0.7714285714285715,\n",
       " 0.7714285714285715,\n",
       " 0.8571428571428571,\n",
       " 0.8571428571428571,\n",
       " 0.8571428571428571,\n",
       " 0.9142857142857143,\n",
       " 0.9142857142857143,\n",
       " 0.9999999999999999]"
      ]
     },
     "execution_count": 247,
     "metadata": {},
     "output_type": "execute_result"
    }
   ],
   "source": [
    "sk_min_max"
   ]
  },
  {
   "cell_type": "code",
   "execution_count": 246,
   "id": "5cdfff89",
   "metadata": {},
   "outputs": [
    {
     "data": {
      "text/plain": [
       "[0.0,\n",
       " 0.2,\n",
       " 0.4,\n",
       " 0.6,\n",
       " 0.6,\n",
       " 0.6285714285714286,\n",
       " 0.6571428571428571,\n",
       " 0.7714285714285715,\n",
       " 0.7714285714285715,\n",
       " 0.8571428571428571,\n",
       " 0.8571428571428571,\n",
       " 0.8571428571428571,\n",
       " 0.9142857142857143,\n",
       " 0.9142857142857143,\n",
       " 1.0]"
      ]
     },
     "execution_count": 246,
     "metadata": {},
     "output_type": "execute_result"
    }
   ],
   "source": [
    "func_min_max"
   ]
  },
  {
   "cell_type": "markdown",
   "id": "6f7c1862",
   "metadata": {},
   "source": [
    "__Observation :__\n",
    "\n",
    "The user-defined functions created by me, for minmax scaling, return the exact same values, as that of the 'sklearn.preprocessing' python library methods, except the highest value. The highest value in my scalled values is represented by 1, while the highest value in the sklearn.preprocessing module is 0.9999999.\n",
    "\n",
    "---"
   ]
  },
  {
   "cell_type": "code",
   "execution_count": 194,
   "id": "71e5a11d",
   "metadata": {},
   "outputs": [
    {
     "name": "stdout",
     "output_type": "stream",
     "text": [
      "---------------------------Comparing Measures of Central Tendancy Values----------------------------\n",
      "\n",
      "Mean (statistics library) :  33.86666666666667\n",
      "Mean (User-Defined Function) :  33.86666666666667\n",
      "Equality :  True\n",
      "Difference :  0.0\n",
      "\n",
      "Meidan (statistics library) :  36\n",
      "Median (User-Defined Function) :  36\n",
      "Equality :  True\n",
      "Difference :  0\n",
      "\n",
      "Mode Score (statistics library) :  40\n",
      "Mode Score (User-Defined Function) :  40\n",
      "Equality :  True\n",
      "Difference :  0\n",
      "\n",
      "--------------------------------------------------------------------------------------------------------------\n"
     ]
    }
   ],
   "source": [
    "#Comparing measures of central tendancy\n",
    "print((\"Comparing Measures of Central Tendancy Values\").center(100,'-'))\n",
    "print()\n",
    "\n",
    "\n",
    "arr_test = df1[\"True_Value\"].to_list()\n",
    "\n",
    "mean_sklearn = statistics.mean(arr_test)\n",
    "mean_func = arr_mean(arr_test)\n",
    "\n",
    "median_sklearn = statistics.median(arr_test)\n",
    "median_func = arr_median(arr_test)\n",
    "\n",
    "mode_sklearn = statistics.mode(arr_test)\n",
    "mode_func = arr_mode(arr_test)\n",
    "         \n",
    "         \n",
    "print(\"Mean (statistics library) : \", mean_sklearn)\n",
    "print(\"Mean (User-Defined Function) : \",mean_func )\n",
    "print(\"Equality : \", mean_sklearn==mean_func)\n",
    "print(\"Difference : \",mean_sklearn-mean_func)\n",
    "print()\n",
    "\n",
    "print(\"Meidan (statistics library) : \", median_sklearn)\n",
    "print(\"Median (User-Defined Function) : \",median_func )\n",
    "print(\"Equality : \", median_sklearn==median_func)\n",
    "print(\"Difference : \",median_sklearn-median_func)\n",
    "print()\n",
    "\n",
    "print(\"Mode Score (statistics library) : \", mode_sklearn)\n",
    "print(\"Mode Score (User-Defined Function) : \",mode_func )\n",
    "print(\"Equality : \", mode_sklearn==mode_func)\n",
    "print(\"Difference : \",mode_sklearn-mode_func)\n",
    "print()\n",
    "print(('-')*110)"
   ]
  },
  {
   "cell_type": "markdown",
   "id": "2a50b2c3",
   "metadata": {},
   "source": [
    "__Observation :__\n",
    "\n",
    "The user-defined functions created by me, for measuring the measures of central tendancy (mean|median|mode), return the exact same value, as that of the 'statistics' python library methods.\n",
    "\n",
    "---"
   ]
  },
  {
   "cell_type": "markdown",
   "id": "701fdae0",
   "metadata": {},
   "source": [
    "__2)__\n",
    "Find the percentile of the number \"last two digits of your register number + 10\" in df2."
   ]
  },
  {
   "cell_type": "code",
   "execution_count": 195,
   "id": "5baa9bc6",
   "metadata": {},
   "outputs": [
    {
     "data": {
      "text/plain": [
       "45.16129032258064"
      ]
     },
     "execution_count": 195,
     "metadata": {},
     "output_type": "execute_result"
    }
   ],
   "source": [
    "arr_reg_added = df2[\"Predicted_Value\"].to_list()\n",
    "arr_reg_added.append(36)\n",
    "percentile_arr(arr_reg_added)[36] #Returned Dictionary with value"
   ]
  },
  {
   "cell_type": "markdown",
   "id": "58a0aede",
   "metadata": {},
   "source": [
    "__3)__\n",
    "Check whether the dataset size affects the values of Regression Evaluation Metrics"
   ]
  },
  {
   "cell_type": "code",
   "execution_count": 165,
   "id": "51f4de64",
   "metadata": {},
   "outputs": [],
   "source": [
    "#Creating a user defined function to conduct R2, MSE, MAE\n",
    "def perform_eval_met(true_val_test,pred_val_test):\n",
    "    r2_score = evaluation_metrics(true_val_test,pred_val_test,\"R2\")\n",
    "    mse_score = evaluation_metrics(true_val_test,pred_val_test,\"MSE\")\n",
    "    mae_score = evaluation_metrics(true_val_test,pred_val_test,\"MAE\")\n",
    "    \n",
    "    return r2_score,mse_score,mae_score"
   ]
  },
  {
   "cell_type": "code",
   "execution_count": 166,
   "id": "91b882f2",
   "metadata": {},
   "outputs": [
    {
     "name": "stdout",
     "output_type": "stream",
     "text": [
      "--------------Comparing Evaluation Metrics Values Of Different Size Identical Datasets--------------\n",
      "\n",
      "Dataset 1 Size (df1):  (15, 2)\n",
      "Dataset 2 Size (df2):  (30, 2)\n",
      "\n",
      "R2 Score (df1) :  0.9825872957111496\n",
      "R2 Score (df2 : double the size of df1) :  0.9825872957111496\n",
      "Equality :  True\n",
      "Difference :  0.0\n",
      "\n",
      "MSE Score (df1) :  1.6666666666666667\n",
      "MSE Score (df2 : double the size of df1) :  1.6666666666666667\n",
      "Equality :  True\n",
      "Difference :  0.0\n",
      "\n",
      "MAE Score (df1) :  0.8666666666666667\n",
      "MAE Score df2 : double the size of df1) :  0.8666666666666667\n",
      "Equality :  True\n",
      "Difference :  0.0\n",
      "\n",
      "--------------------------------------------------------------------------------------------------------------\n"
     ]
    }
   ],
   "source": [
    "#Comparing Evaluation Metrics --> R2, MSE, MAE Scores of two identical datasets of diff. size\n",
    "\n",
    "df1_true_arr = df1[\"True_Value\"].to_list()\n",
    "df1_pred_arr = df1[\"Predicted_Value\"].to_list()\n",
    "\n",
    "df2_true_arr = df2[\"True_Value\"].to_list()\n",
    "df2_pred_arr = df2[\"Predicted_Value\"].to_list()\n",
    "\n",
    "df1_r2_score, df1_mse_score, df1_mae_score = perform_eval_met(df1_true_arr,df1_pred_arr)\n",
    "df2_r2_score, df2_mse_score, df2_mae_score = perform_eval_met(df1_true_arr,df1_pred_arr)\n",
    "\n",
    "#Displaying the results\n",
    "\n",
    "print((\"Comparing Evaluation Metrics Values Of Different Size Identical Datasets\").center(100,'-'))\n",
    "print()\n",
    "\n",
    "s1 = df1.shape\n",
    "s2 = df2.shape\n",
    "print(\"Dataset 1 Size (df1): \", s1)\n",
    "print(\"Dataset 2 Size (df2): \", s2)\n",
    "print()\n",
    "\n",
    "print(\"R2 Score (df1) : \", df1_r2_score)\n",
    "print(\"R2 Score (df2 : double the size of df1) : \",df2_r2_score)\n",
    "print(\"Equality : \", df1_r2_score==df2_r2_score)\n",
    "print(\"Difference : \",df1_r2_score-df2_r2_score)\n",
    "print()\n",
    "         \n",
    "print(\"MSE Score (df1) : \", df1_mse_score)\n",
    "print(\"MSE Score (df2 : double the size of df1) : \",df2_mse_score )\n",
    "print(\"Equality : \", df1_mse_score==df2_mse_score)\n",
    "print(\"Difference : \",df1_mse_score-df2_mse_score)\n",
    "print()\n",
    "\n",
    "         \n",
    "print(\"MAE Score (df1) : \", df1_mae_score)\n",
    "print(\"MAE Score df2 : double the size of df1) : \",df2_mae_score )\n",
    "print(\"Equality : \", df1_mae_score==df2_mae_score)\n",
    "print(\"Difference : \",df1_mae_score-df2_mae_score)\n",
    "print()\n",
    "print(('-')*110)"
   ]
  },
  {
   "cell_type": "markdown",
   "id": "e07f8196",
   "metadata": {},
   "source": [
    "__Observation:__\n",
    "\n",
    "From the calculations conducted, it can be seen that the size of the dataset does not effect the evaluation metric values (R2 | MSE | MAE), till the datasts considered are identical. The values returned for different sized dataset were the same.\n",
    "\n",
    "---"
   ]
  },
  {
   "cell_type": "markdown",
   "id": "7a13cb8e",
   "metadata": {},
   "source": [
    "__4)__\n",
    "Is there any relationship between the Squared Pearson Correlation Coefficient and R2 value?"
   ]
  },
  {
   "cell_type": "code",
   "execution_count": 167,
   "id": "7df71872",
   "metadata": {},
   "outputs": [],
   "source": [
    "arr_true_test = df1[\"True_Value\"].to_list()\n",
    "arr_pred_test = df1[\"Predicted_Value\"].to_list()\n",
    "\n",
    "corr_value = corr_arr(arr_true_test , arr_pred_test)\n",
    "\n",
    "r2_arr_true_score = evaluation_metrics(arr_true_test , arr_pred_test ,\"R2\")"
   ]
  },
  {
   "cell_type": "code",
   "execution_count": 171,
   "id": "dcb372e7",
   "metadata": {},
   "outputs": [
    {
     "data": {
      "text/plain": [
       "0.9852705474753952"
      ]
     },
     "execution_count": 171,
     "metadata": {},
     "output_type": "execute_result"
    }
   ],
   "source": [
    "corr_value**2"
   ]
  },
  {
   "cell_type": "code",
   "execution_count": 172,
   "id": "297fdfe8",
   "metadata": {},
   "outputs": [
    {
     "data": {
      "text/plain": [
       "0.9825872957111496"
      ]
     },
     "execution_count": 172,
     "metadata": {},
     "output_type": "execute_result"
    }
   ],
   "source": [
    "r2_arr_true_score"
   ]
  },
  {
   "cell_type": "markdown",
   "id": "846ae8cc",
   "metadata": {},
   "source": [
    "__Observation:__\n",
    "\n",
    "R2 Score value is the square of the Pearson Correlation Coefficient (R).\n",
    "\n",
    "---"
   ]
  }
 ],
 "metadata": {
  "kernelspec": {
   "display_name": "Python 3 (ipykernel)",
   "language": "python",
   "name": "python3"
  },
  "language_info": {
   "codemirror_mode": {
    "name": "ipython",
    "version": 3
   },
   "file_extension": ".py",
   "mimetype": "text/x-python",
   "name": "python",
   "nbconvert_exporter": "python",
   "pygments_lexer": "ipython3",
   "version": "3.10.1"
  }
 },
 "nbformat": 4,
 "nbformat_minor": 5
}
